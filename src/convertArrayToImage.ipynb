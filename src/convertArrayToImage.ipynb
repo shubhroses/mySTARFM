{
 "cells": [
  {
   "cell_type": "code",
   "execution_count": 9,
   "metadata": {},
   "outputs": [],
   "source": [
    "import rasterio\n",
    "from rasterio.transform import from_origin\n",
    "import numpy as np\n",
    "import cv2\n",
    "from starfm import prediction"
   ]
  },
  {
   "cell_type": "code",
   "execution_count": 4,
   "metadata": {},
   "outputs": [],
   "source": [
    "F0 = cv2.imread(\"../Images/sim_Landsat_t1.tif\")\n",
    "C0 = cv2.imread(\"../Images/sim_MODIS_t1.tif\")\n",
    "C1 = cv2.imread(\"../Images/sim_MODIS_t2.tif\")"
   ]
  },
  {
   "cell_type": "code",
   "execution_count": 5,
   "metadata": {},
   "outputs": [],
   "source": [
    "F1 = prediction(F0, C0, C1)"
   ]
  },
  {
   "cell_type": "code",
   "execution_count": 10,
   "metadata": {},
   "outputs": [],
   "source": [
    "output_file = \"output.tif\""
   ]
  },
  {
   "cell_type": "code",
   "execution_count": 11,
   "metadata": {},
   "outputs": [],
   "source": [
    "xmin, ymax = 0, 0\n",
    "xres, yres = 1, 1\n",
    "nrows, ncols, nbands = F1.shape\n",
    "transform = from_origin(xmin, ymax, xres, yres)"
   ]
  },
  {
   "cell_type": "code",
   "execution_count": 12,
   "metadata": {},
   "outputs": [
    {
     "name": "stderr",
     "output_type": "stream",
     "text": [
      "/Users/shubhrosesingh/Library/Caches/pypoetry/virtualenvs/mystarfm-sxmhv0iY-py3.10/lib/python3.10/site-packages/rasterio/__init__.py:314: NotGeoreferencedWarning: The given matrix is equal to Affine.identity or its flipped counterpart. GDAL may ignore this matrix and save no geotransform without raising an error. This behavior is somewhat driver-specific.\n",
      "  dataset = writer(\n"
     ]
    },
    {
     "ename": "ValueError",
     "evalue": "Source shape (150, 150, 3) is inconsistent with given indexes 3",
     "output_type": "error",
     "traceback": [
      "\u001b[0;31m---------------------------------------------------------------------------\u001b[0m",
      "\u001b[0;31mValueError\u001b[0m                                Traceback (most recent call last)",
      "Cell \u001b[0;32mIn[12], line 3\u001b[0m\n\u001b[1;32m      1\u001b[0m \u001b[39mwith\u001b[39;00m rasterio\u001b[39m.\u001b[39mopen(output_file, \u001b[39m'\u001b[39m\u001b[39mw\u001b[39m\u001b[39m'\u001b[39m, driver\u001b[39m=\u001b[39m\u001b[39m'\u001b[39m\u001b[39mGTiff\u001b[39m\u001b[39m'\u001b[39m, height\u001b[39m=\u001b[39mnrows, width\u001b[39m=\u001b[39mncols, count\u001b[39m=\u001b[39mnbands, dtype\u001b[39m=\u001b[39mF1\u001b[39m.\u001b[39mdtype, transform\u001b[39m=\u001b[39mtransform) \u001b[39mas\u001b[39;00m dst:\n\u001b[1;32m      2\u001b[0m     \u001b[39m# Write the NumPy array to the file\u001b[39;00m\n\u001b[0;32m----> 3\u001b[0m     dst\u001b[39m.\u001b[39;49mwrite(F1)\n",
      "File \u001b[0;32mrasterio/_io.pyx:1700\u001b[0m, in \u001b[0;36mrasterio._io.DatasetWriterBase.write\u001b[0;34m()\u001b[0m\n",
      "\u001b[0;31mValueError\u001b[0m: Source shape (150, 150, 3) is inconsistent with given indexes 3"
     ]
    }
   ],
   "source": [
    "with rasterio.open(output_file, 'w', driver='GTiff', height=nrows, width=ncols, count=nbands, dtype=F1.dtype, transform=transform) as dst:\n",
    "    # Write the NumPy array to the file\n",
    "    for i in range(nbands):\n",
    "        dst.write(F1[:,:,i], indexes=i+1)"
   ]
  }
 ],
 "metadata": {
  "kernelspec": {
   "display_name": "mystarfm-sxmhv0iY-py3.10",
   "language": "python",
   "name": "python3"
  },
  "language_info": {
   "codemirror_mode": {
    "name": "ipython",
    "version": 3
   },
   "file_extension": ".py",
   "mimetype": "text/x-python",
   "name": "python",
   "nbconvert_exporter": "python",
   "pygments_lexer": "ipython3",
   "version": "3.10.8"
  },
  "orig_nbformat": 4,
  "vscode": {
   "interpreter": {
    "hash": "ed11cc030488a70dbb1de30b4a99c89c4a768bfc79ced86979d1e7d7fd3551f8"
   }
  }
 },
 "nbformat": 4,
 "nbformat_minor": 2
}
