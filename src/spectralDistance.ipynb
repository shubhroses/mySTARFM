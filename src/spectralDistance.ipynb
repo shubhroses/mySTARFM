{
 "cells": [
  {
   "cell_type": "code",
   "execution_count": 96,
   "metadata": {},
   "outputs": [],
   "source": [
    "import cv2\n",
    "import numpy as np"
   ]
  },
  {
   "cell_type": "code",
   "execution_count": 65,
   "metadata": {},
   "outputs": [],
   "source": [
    "F0 = cv2.imread(\"../Images/sim_Landsat_t1.tif\")\n",
    "C0 = cv2.imread(\"../Images/sim_MODIS_t1.tif\")\n",
    "C1 = cv2.imread(\"../Images/sim_MODIS_t2.tif\")"
   ]
  },
  {
   "cell_type": "code",
   "execution_count": 66,
   "metadata": {},
   "outputs": [
    {
     "data": {
      "text/plain": [
       "numpy.ndarray"
      ]
     },
     "execution_count": 66,
     "metadata": {},
     "output_type": "execute_result"
    }
   ],
   "source": [
    "type(F0)"
   ]
  },
  {
   "cell_type": "code",
   "execution_count": 67,
   "metadata": {},
   "outputs": [
    {
     "data": {
      "text/plain": [
       "(150, 150, 3)"
      ]
     },
     "execution_count": 67,
     "metadata": {},
     "output_type": "execute_result"
    }
   ],
   "source": [
    "F0.shape"
   ]
  },
  {
   "cell_type": "code",
   "execution_count": 68,
   "metadata": {},
   "outputs": [
    {
     "name": "stdout",
     "output_type": "stream",
     "text": [
      "1\n"
     ]
    }
   ],
   "source": [
    "windowSize = 3\n",
    "padAmount = windowSize//2\n",
    "print(padAmount)"
   ]
  },
  {
   "cell_type": "code",
   "execution_count": 69,
   "metadata": {},
   "outputs": [],
   "source": [
    "padded_F0 = np.pad(F0, [(padAmount, padAmount), (padAmount, padAmount), (0, 0)], mode='constant', constant_values=0)"
   ]
  },
  {
   "cell_type": "code",
   "execution_count": 70,
   "metadata": {},
   "outputs": [
    {
     "data": {
      "text/plain": [
       "(152, 152, 3)"
      ]
     },
     "execution_count": 70,
     "metadata": {},
     "output_type": "execute_result"
    }
   ],
   "source": [
    "padded_F0.shape"
   ]
  },
  {
   "cell_type": "code",
   "execution_count": 71,
   "metadata": {},
   "outputs": [],
   "source": [
    "F0_test = np.array([[[1, 2, 3], [4, 5, 6]], [[7, 8, 9], [10, 11, 12]]])"
   ]
  },
  {
   "cell_type": "code",
   "execution_count": 72,
   "metadata": {},
   "outputs": [],
   "source": [
    "def padArray(arr, windowSize):\n",
    "    padAmount = windowSize//2\n",
    "    return np.pad(arr, [(padAmount, padAmount), (padAmount, padAmount), (0, 0)], mode='constant', constant_values=0)"
   ]
  },
  {
   "cell_type": "code",
   "execution_count": 73,
   "metadata": {},
   "outputs": [
    {
     "data": {
      "text/plain": [
       "(2, 2, 3)"
      ]
     },
     "execution_count": 73,
     "metadata": {},
     "output_type": "execute_result"
    }
   ],
   "source": [
    "F0_test.shape"
   ]
  },
  {
   "cell_type": "code",
   "execution_count": 74,
   "metadata": {},
   "outputs": [],
   "source": [
    "def printArray(arr):\n",
    "    for row in arr:\n",
    "        for e in row:\n",
    "            print(e, end=\" \")\n",
    "        print(\"\\n\")"
   ]
  },
  {
   "cell_type": "code",
   "execution_count": 75,
   "metadata": {},
   "outputs": [
    {
     "name": "stdout",
     "output_type": "stream",
     "text": [
      "[1 2 3] [4 5 6] \n",
      "\n",
      "[7 8 9] [10 11 12] \n",
      "\n"
     ]
    }
   ],
   "source": [
    "printArray(F0_test)"
   ]
  },
  {
   "cell_type": "code",
   "execution_count": 76,
   "metadata": {},
   "outputs": [
    {
     "data": {
      "text/plain": [
       "(2, 2, 3)"
      ]
     },
     "execution_count": 76,
     "metadata": {},
     "output_type": "execute_result"
    }
   ],
   "source": [
    "F0_test.shape"
   ]
  },
  {
   "cell_type": "code",
   "execution_count": 77,
   "metadata": {},
   "outputs": [],
   "source": [
    "np.set_printoptions(linewidth=np.inf)"
   ]
  },
  {
   "cell_type": "code",
   "execution_count": 78,
   "metadata": {},
   "outputs": [],
   "source": [
    "padded_F0_test = padArray(F0_test, 3)"
   ]
  },
  {
   "cell_type": "code",
   "execution_count": 79,
   "metadata": {},
   "outputs": [
    {
     "data": {
      "text/plain": [
       "(4, 4, 3)"
      ]
     },
     "execution_count": 79,
     "metadata": {},
     "output_type": "execute_result"
    }
   ],
   "source": [
    "padded_F0_test.shape"
   ]
  },
  {
   "cell_type": "code",
   "execution_count": 80,
   "metadata": {},
   "outputs": [
    {
     "name": "stdout",
     "output_type": "stream",
     "text": [
      "[0 0 0] [0 0 0] [0 0 0] [0 0 0] \n",
      "\n",
      "[0 0 0] [1 2 3] [4 5 6] [0 0 0] \n",
      "\n",
      "[0 0 0] [7 8 9] [10 11 12] [0 0 0] \n",
      "\n",
      "[0 0 0] [0 0 0] [0 0 0] [0 0 0] \n",
      "\n"
     ]
    }
   ],
   "source": [
    "printArray(padded_F0_test)"
   ]
  },
  {
   "cell_type": "code",
   "execution_count": 85,
   "metadata": {},
   "outputs": [
    {
     "name": "stdout",
     "output_type": "stream",
     "text": [
      "1\n"
     ]
    }
   ],
   "source": [
    "print(padAmount)"
   ]
  },
  {
   "cell_type": "code",
   "execution_count": 94,
   "metadata": {},
   "outputs": [
    {
     "name": "stdout",
     "output_type": "stream",
     "text": [
      "[0 0 0] [0 0 0] [0 0 0] \n",
      "\n",
      "[0 0 0] [1 2 3] [4 5 6] \n",
      "\n",
      "[0 0 0] [7 8 9] [10 11 12] \n",
      "\n"
     ]
    },
    {
     "data": {
      "text/plain": [
       "numpy.ndarray"
      ]
     },
     "execution_count": 94,
     "metadata": {},
     "output_type": "execute_result"
    }
   ],
   "source": [
    "i, j = 1, 1\n",
    "window = padded_F0_test[i-windowSize//2:i+windowSize//2+1, j-windowSize//2:j+windowSize//2+1]\n",
    "printArray(window)"
   ]
  },
  {
   "cell_type": "code",
   "execution_count": 95,
   "metadata": {},
   "outputs": [
    {
     "name": "stdout",
     "output_type": "stream",
     "text": [
      "[0 0 0] [0 0 0] [0 0 0] \n",
      "\n",
      "[0 0 0] [1 2 3] [4 5 6] \n",
      "\n",
      "[0 0 0] [7 8 9] [10 11 12] \n",
      "\n",
      "NEXT WINDOW\n",
      "[0 0 0] [0 0 0] [0 0 0] \n",
      "\n",
      "[1 2 3] [4 5 6] [0 0 0] \n",
      "\n",
      "[7 8 9] [10 11 12] [0 0 0] \n",
      "\n",
      "NEXT WINDOW\n",
      "[0 0 0] [1 2 3] [4 5 6] \n",
      "\n",
      "[0 0 0] [7 8 9] [10 11 12] \n",
      "\n",
      "[0 0 0] [0 0 0] [0 0 0] \n",
      "\n",
      "NEXT WINDOW\n",
      "[1 2 3] [4 5 6] [0 0 0] \n",
      "\n",
      "[7 8 9] [10 11 12] [0 0 0] \n",
      "\n",
      "[0 0 0] [0 0 0] [0 0 0] \n",
      "\n",
      "NEXT WINDOW\n"
     ]
    }
   ],
   "source": [
    "for i in range(padAmount, len(padded_F0_test)-padAmount):\n",
    "    for j in range(padAmount, len(padded_F0_test[0])-padAmount):\n",
    "        window = padded_F0_test[i-windowSize//2:i+windowSize//2+1, j-windowSize//2:j+windowSize//2+1]\n",
    "        printArray(window)\n",
    "        print(\"NEXT WINDOW\")\n",
    "    "
   ]
  },
  {
   "attachments": {},
   "cell_type": "markdown",
   "metadata": {},
   "source": [
    "# TESTING SPECTRAL DISTANCE"
   ]
  },
  {
   "cell_type": "code",
   "execution_count": 97,
   "metadata": {},
   "outputs": [],
   "source": [
    "import cv2\n",
    "import numpy as np"
   ]
  },
  {
   "cell_type": "code",
   "execution_count": 98,
   "metadata": {},
   "outputs": [],
   "source": [
    "windowSize = 3\n",
    "padAmount = windowSize//2"
   ]
  },
  {
   "attachments": {},
   "cell_type": "markdown",
   "metadata": {},
   "source": [
    "### Padding array"
   ]
  },
  {
   "cell_type": "code",
   "execution_count": 100,
   "metadata": {},
   "outputs": [],
   "source": [
    "def padArray(arr, windowSize):\n",
    "    padAmount = windowSize//2\n",
    "    return np.pad(arr, [(padAmount, padAmount), (padAmount, padAmount), (0, 0)], mode='constant', constant_values=0)"
   ]
  },
  {
   "attachments": {},
   "cell_type": "markdown",
   "metadata": {},
   "source": [
    "### Print cell"
   ]
  },
  {
   "cell_type": "code",
   "execution_count": 105,
   "metadata": {},
   "outputs": [],
   "source": [
    "def printArray(arr):\n",
    "    for row in arr:\n",
    "        for e in row:\n",
    "            print(e, end=\" \")\n",
    "        print(\"\\n\")"
   ]
  },
  {
   "cell_type": "code",
   "execution_count": 106,
   "metadata": {},
   "outputs": [],
   "source": [
    "F0_test = np.array([[[1, 2, 3], [4, 5, 6]], [[7, 8, 9], [10, 11, 12]]])\n",
    "padded_F0_test = padArray(F0_test, windowSize)"
   ]
  },
  {
   "cell_type": "code",
   "execution_count": 113,
   "metadata": {},
   "outputs": [],
   "source": [
    "C0_test = np.array([[[1, 1, 1], [1, 1, 1]], [[1, 1, 1], [1, 1, 1]]])\n",
    "padded_C0_test = padArray(C0_test, windowSize)"
   ]
  },
  {
   "attachments": {},
   "cell_type": "markdown",
   "metadata": {},
   "source": [
    "### Spectral Distance"
   ]
  },
  {
   "cell_type": "code",
   "execution_count": 117,
   "metadata": {},
   "outputs": [
    {
     "name": "stdout",
     "output_type": "stream",
     "text": [
      "Window around point (1, 1)\n",
      "[1. 1. 1.] [1. 1. 1.] [1. 1. 1.] \n",
      "\n",
      "[1. 1. 1.] [1.         0.5        0.33333333] [0.25       0.2        0.16666667] \n",
      "\n",
      "[1. 1. 1.] [0.14285714 0.125      0.11111111] [0.1        0.09090909 0.08333333] \n",
      "\n",
      "Window around point (1, 2)\n",
      "[1. 1. 1.] [1. 1. 1.] [1. 1. 1.] \n",
      "\n",
      "[1.         0.5        0.33333333] [0.25       0.2        0.16666667] [1. 1. 1.] \n",
      "\n",
      "[0.14285714 0.125      0.11111111] [0.1        0.09090909 0.08333333] [1. 1. 1.] \n",
      "\n",
      "Window around point (2, 1)\n",
      "[1. 1. 1.] [1.         0.5        0.33333333] [0.25       0.2        0.16666667] \n",
      "\n",
      "[1. 1. 1.] [0.14285714 0.125      0.11111111] [0.1        0.09090909 0.08333333] \n",
      "\n",
      "[1. 1. 1.] [1. 1. 1.] [1. 1. 1.] \n",
      "\n",
      "Window around point (2, 2)\n",
      "[1.         0.5        0.33333333] [0.25       0.2        0.16666667] [1. 1. 1.] \n",
      "\n",
      "[0.14285714 0.125      0.11111111] [0.1        0.09090909 0.08333333] [1. 1. 1.] \n",
      "\n",
      "[1. 1. 1.] [1. 1. 1.] [1. 1. 1.] \n",
      "\n"
     ]
    }
   ],
   "source": [
    "for i in range(padAmount, len(padded_F0_test)-padAmount):\n",
    "    for j in range(padAmount, len(padded_F0_test[0])-padAmount):\n",
    "        F0_window = padded_F0_test[i-windowSize//2:i+windowSize//2+1, j-windowSize//2:j+windowSize//2+1]\n",
    "        C0_window = padded_C0_test[i-windowSize//2:i+windowSize//2+1, j-windowSize//2:j+windowSize//2+1]\n",
    "        print(f\"Window around point ({i}, {j})\")\n",
    "        spectral_difference_window = F0_window - C0_window\n",
    "        spectral_distance_window = 1/(abs(spectral_difference_window) + 1.0)\n",
    "        "
   ]
  }
 ],
 "metadata": {
  "kernelspec": {
   "display_name": "mystarfm-sxmhv0iY-py3.10",
   "language": "python",
   "name": "python3"
  },
  "language_info": {
   "codemirror_mode": {
    "name": "ipython",
    "version": 3
   },
   "file_extension": ".py",
   "mimetype": "text/x-python",
   "name": "python",
   "nbconvert_exporter": "python",
   "pygments_lexer": "ipython3",
   "version": "3.10.8"
  },
  "orig_nbformat": 4,
  "vscode": {
   "interpreter": {
    "hash": "ed11cc030488a70dbb1de30b4a99c89c4a768bfc79ced86979d1e7d7fd3551f8"
   }
  }
 },
 "nbformat": 4,
 "nbformat_minor": 2
}
