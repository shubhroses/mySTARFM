{
 "cells": [
  {
   "cell_type": "code",
   "execution_count": 146,
   "metadata": {},
   "outputs": [],
   "source": [
    "import cv2\n",
    "import rasterio\n",
    "import numpy as np\n",
    "import sys\n",
    "sys.path.append('src')"
   ]
  },
  {
   "cell_type": "code",
   "execution_count": 85,
   "metadata": {},
   "outputs": [],
   "source": [
    "F0 = cv2.imread(\"../Images/sim_Landsat_t1.tif\")\n",
    "C0 = cv2.imread(\"../Images/sim_MODIS_t1.tif\")\n",
    "C1 = cv2.imread(\"../Images/sim_MODIS_t2.tif\")"
   ]
  },
  {
   "cell_type": "code",
   "execution_count": 86,
   "metadata": {},
   "outputs": [
    {
     "data": {
      "text/plain": [
       "numpy.ndarray"
      ]
     },
     "execution_count": 86,
     "metadata": {},
     "output_type": "execute_result"
    }
   ],
   "source": [
    "type(F0)"
   ]
  },
  {
   "cell_type": "code",
   "execution_count": 87,
   "metadata": {},
   "outputs": [
    {
     "data": {
      "text/plain": [
       "(150, 150, 3)"
      ]
     },
     "execution_count": 87,
     "metadata": {},
     "output_type": "execute_result"
    }
   ],
   "source": [
    "F0.shape"
   ]
  },
  {
   "cell_type": "code",
   "execution_count": 88,
   "metadata": {},
   "outputs": [
    {
     "name": "stdout",
     "output_type": "stream",
     "text": [
      "1\n"
     ]
    }
   ],
   "source": [
    "windowSize = 3\n",
    "padAmount = windowSize//2\n",
    "print(padAmount)"
   ]
  },
  {
   "cell_type": "code",
   "execution_count": 89,
   "metadata": {},
   "outputs": [],
   "source": [
    "padded_F0 = np.pad(F0, [(padAmount, padAmount), (padAmount, padAmount), (0, 0)], mode='constant', constant_values=0)"
   ]
  },
  {
   "cell_type": "code",
   "execution_count": 90,
   "metadata": {},
   "outputs": [
    {
     "data": {
      "text/plain": [
       "(152, 152, 3)"
      ]
     },
     "execution_count": 90,
     "metadata": {},
     "output_type": "execute_result"
    }
   ],
   "source": [
    "padded_F0.shape"
   ]
  },
  {
   "cell_type": "code",
   "execution_count": 91,
   "metadata": {},
   "outputs": [],
   "source": [
    "F0_test = np.array([[[1, 2, 3], [4, 5, 6]], [[7, 8, 9], [10, 11, 12]]])"
   ]
  },
  {
   "cell_type": "code",
   "execution_count": 92,
   "metadata": {},
   "outputs": [],
   "source": [
    "def padArray(arr, windowSize):\n",
    "    padAmount = windowSize//2\n",
    "    return np.pad(arr, [(padAmount, padAmount), (padAmount, padAmount), (0, 0)], mode='constant', constant_values=0)"
   ]
  },
  {
   "cell_type": "code",
   "execution_count": 93,
   "metadata": {},
   "outputs": [
    {
     "data": {
      "text/plain": [
       "(2, 2, 3)"
      ]
     },
     "execution_count": 93,
     "metadata": {},
     "output_type": "execute_result"
    }
   ],
   "source": [
    "F0_test.shape"
   ]
  },
  {
   "cell_type": "code",
   "execution_count": 94,
   "metadata": {},
   "outputs": [
    {
     "data": {
      "text/plain": [
       "(2, 2, 3)"
      ]
     },
     "execution_count": 94,
     "metadata": {},
     "output_type": "execute_result"
    }
   ],
   "source": [
    "F0_test.shape"
   ]
  },
  {
   "cell_type": "code",
   "execution_count": 95,
   "metadata": {},
   "outputs": [],
   "source": [
    "np.set_printoptions(linewidth=np.inf)"
   ]
  },
  {
   "cell_type": "code",
   "execution_count": 96,
   "metadata": {},
   "outputs": [],
   "source": [
    "padded_F0_test = padArray(F0_test, 3)"
   ]
  },
  {
   "cell_type": "code",
   "execution_count": 97,
   "metadata": {},
   "outputs": [
    {
     "data": {
      "text/plain": [
       "(4, 4, 3)"
      ]
     },
     "execution_count": 97,
     "metadata": {},
     "output_type": "execute_result"
    }
   ],
   "source": [
    "padded_F0_test.shape"
   ]
  },
  {
   "cell_type": "code",
   "execution_count": 98,
   "metadata": {},
   "outputs": [
    {
     "name": "stdout",
     "output_type": "stream",
     "text": [
      "[[[ 0  0  0]\n",
      "  [ 0  0  0]\n",
      "  [ 0  0  0]\n",
      "  [ 0  0  0]]\n",
      "\n",
      " [[ 0  0  0]\n",
      "  [ 1  2  3]\n",
      "  [ 4  5  6]\n",
      "  [ 0  0  0]]\n",
      "\n",
      " [[ 0  0  0]\n",
      "  [ 7  8  9]\n",
      "  [10 11 12]\n",
      "  [ 0  0  0]]\n",
      "\n",
      " [[ 0  0  0]\n",
      "  [ 0  0  0]\n",
      "  [ 0  0  0]\n",
      "  [ 0  0  0]]]\n"
     ]
    }
   ],
   "source": [
    "print(padded_F0_test)"
   ]
  },
  {
   "cell_type": "code",
   "execution_count": 99,
   "metadata": {},
   "outputs": [
    {
     "name": "stdout",
     "output_type": "stream",
     "text": [
      "1\n"
     ]
    }
   ],
   "source": [
    "print(padAmount)"
   ]
  },
  {
   "cell_type": "code",
   "execution_count": 100,
   "metadata": {},
   "outputs": [
    {
     "name": "stdout",
     "output_type": "stream",
     "text": [
      "[[[ 0  0  0]\n",
      "  [ 0  0  0]\n",
      "  [ 0  0  0]]\n",
      "\n",
      " [[ 0  0  0]\n",
      "  [ 1  2  3]\n",
      "  [ 4  5  6]]\n",
      "\n",
      " [[ 0  0  0]\n",
      "  [ 7  8  9]\n",
      "  [10 11 12]]]\n"
     ]
    }
   ],
   "source": [
    "i, j = 1, 1\n",
    "window = padded_F0_test[i-windowSize//2:i+windowSize//2+1, j-windowSize//2:j+windowSize//2+1]\n",
    "print(window)"
   ]
  },
  {
   "cell_type": "code",
   "execution_count": 101,
   "metadata": {},
   "outputs": [
    {
     "name": "stdout",
     "output_type": "stream",
     "text": [
      "[[[ 0  0  0]\n",
      "  [ 0  0  0]\n",
      "  [ 0  0  0]]\n",
      "\n",
      " [[ 0  0  0]\n",
      "  [ 1  2  3]\n",
      "  [ 4  5  6]]\n",
      "\n",
      " [[ 0  0  0]\n",
      "  [ 7  8  9]\n",
      "  [10 11 12]]]\n",
      "NEXT WINDOW\n",
      "[[[ 0  0  0]\n",
      "  [ 0  0  0]\n",
      "  [ 0  0  0]]\n",
      "\n",
      " [[ 1  2  3]\n",
      "  [ 4  5  6]\n",
      "  [ 0  0  0]]\n",
      "\n",
      " [[ 7  8  9]\n",
      "  [10 11 12]\n",
      "  [ 0  0  0]]]\n",
      "NEXT WINDOW\n",
      "[[[ 0  0  0]\n",
      "  [ 1  2  3]\n",
      "  [ 4  5  6]]\n",
      "\n",
      " [[ 0  0  0]\n",
      "  [ 7  8  9]\n",
      "  [10 11 12]]\n",
      "\n",
      " [[ 0  0  0]\n",
      "  [ 0  0  0]\n",
      "  [ 0  0  0]]]\n",
      "NEXT WINDOW\n",
      "[[[ 1  2  3]\n",
      "  [ 4  5  6]\n",
      "  [ 0  0  0]]\n",
      "\n",
      " [[ 7  8  9]\n",
      "  [10 11 12]\n",
      "  [ 0  0  0]]\n",
      "\n",
      " [[ 0  0  0]\n",
      "  [ 0  0  0]\n",
      "  [ 0  0  0]]]\n",
      "NEXT WINDOW\n"
     ]
    }
   ],
   "source": [
    "for i in range(padAmount, len(padded_F0_test)-padAmount):\n",
    "    for j in range(padAmount, len(padded_F0_test[0])-padAmount):\n",
    "        window = padded_F0_test[i-windowSize//2:i+windowSize//2+1, j-windowSize//2:j+windowSize//2+1]\n",
    "        print(window)\n",
    "        print(\"NEXT WINDOW\")\n",
    "    "
   ]
  },
  {
   "attachments": {},
   "cell_type": "markdown",
   "metadata": {},
   "source": [
    "# TESTING PREDICTION"
   ]
  },
  {
   "cell_type": "code",
   "execution_count": 102,
   "metadata": {},
   "outputs": [],
   "source": [
    "import cv2\n",
    "import numpy as np"
   ]
  },
  {
   "cell_type": "code",
   "execution_count": 103,
   "metadata": {},
   "outputs": [],
   "source": [
    "# Set the size of the moving window in which the search for similar pixels \n",
    "# is performed\n",
    "windowSize = 3\n",
    "\n",
    "# Set the path where the results should be stored\n",
    "path = 'STARFM_demo/'\n",
    "\n",
    "# Set to True if you want to decrease the sensitivity to the spectral distance\n",
    "logWeight = False\n",
    "\n",
    "# If more than one training pairs are used, set to True\n",
    "temp = False\n",
    "\n",
    "# The spatial impact factor is a constant defining the relative importance of \n",
    "# spatial distance (in meters)\n",
    "# Take a smaller value of the spatial impact factor for heterogeneous regions \n",
    "# (e.g. A = 150 m)\n",
    "spatImp = 150 \n",
    "\n",
    "# increasing the number of classes limits the number of similar pixels\n",
    "numberClass = 4\n",
    "\n",
    "# Set the uncertainty value for the fine resolution sensor\n",
    "# https://earth.esa.int/web/sentinel/technical-guides/sentinel-2-msi/performance \n",
    "uncertaintyFineRes = 0.03\n",
    "\n",
    "# Set the uncertainty value for the coarse resolution sensor\n",
    "# https://sentinels.copernicus.eu/web/sentinel/technical-guides/sentinel-3-olci/validation\n",
    "uncertaintyCoarseRes = 0.03\n",
    "\n",
    "# Other global variables\n",
    "mid_idx = (windowSize**2)//2\n",
    "specUncertainty = np.sqrt(uncertaintyFineRes**2 + uncertaintyCoarseRes**2)\n",
    "tempUncertainty = np.sqrt(2*uncertaintyCoarseRes**2)\n",
    "\n",
    "# Set the size of the slices in which to divide the image\n",
    "# This number should be multiple of the image height and not bigger than it\n",
    "# Use bigger size for small images\n",
    "sizeSlices = 150\n",
    "\n",
    "# The depth of zeros to pad around each numpy array\n",
    "padAmount = windowSize//2"
   ]
  },
  {
   "attachments": {},
   "cell_type": "markdown",
   "metadata": {},
   "source": [
    "### Padding array"
   ]
  },
  {
   "cell_type": "code",
   "execution_count": 122,
   "metadata": {},
   "outputs": [],
   "source": [
    "def padArray(arr, windowSize):\n",
    "    return np.pad(arr, [(padAmount, padAmount), (padAmount, padAmount), (0, 0)], mode='constant', constant_values=0)"
   ]
  },
  {
   "cell_type": "code",
   "execution_count": 123,
   "metadata": {},
   "outputs": [],
   "source": [
    "F0_test = np.array([[1.0, 2.0, 3.0], [4.0, 5.0, 6.0], [7.0, 8.0, 9.0]])\n",
    "padded_F0_test = np.pad(F0_test, pad_width=windowSize//2, mode='constant', constant_values=0)\n"
   ]
  },
  {
   "cell_type": "code",
   "execution_count": 125,
   "metadata": {},
   "outputs": [
    {
     "data": {
      "text/plain": [
       "array([[0., 0., 0., 0., 0.],\n",
       "       [0., 1., 1., 1., 0.],\n",
       "       [0., 1., 1., 1., 0.],\n",
       "       [0., 1., 1., 1., 0.],\n",
       "       [0., 0., 0., 0., 0.]])"
      ]
     },
     "execution_count": 125,
     "metadata": {},
     "output_type": "execute_result"
    }
   ],
   "source": [
    "C0_test = np.array([[1.0, 1.0, 1.0], [1.0, 1.0, 1.0], [1.0, 1.0, 1.0]])\n",
    "padded_C0_test = np.pad(C0_test, pad_width=windowSize//2, mode='constant', constant_values=0)\n",
    "padded_C0_test"
   ]
  },
  {
   "cell_type": "code",
   "execution_count": 126,
   "metadata": {},
   "outputs": [
    {
     "data": {
      "text/plain": [
       "array([[0., 0., 0., 0., 0.],\n",
       "       [0., 1., 2., 3., 0.],\n",
       "       [0., 1., 2., 3., 0.],\n",
       "       [0., 1., 2., 3., 0.],\n",
       "       [0., 0., 0., 0., 0.]])"
      ]
     },
     "execution_count": 126,
     "metadata": {},
     "output_type": "execute_result"
    }
   ],
   "source": [
    "C1_test = np.array([[1.0, 2.0, 3.0], [1.0, 2.0, 3.0], [1.0, 2.0, 3.0]])\n",
    "padded_C1_test = np.pad(C1_test, pad_width=windowSize//2, mode='constant', constant_values=0)\n",
    "padded_C1_test"
   ]
  },
  {
   "cell_type": "code",
   "execution_count": 127,
   "metadata": {},
   "outputs": [
    {
     "data": {
      "text/plain": [
       "array([[1., 2., 3.],\n",
       "       [1., 2., 3.],\n",
       "       [1., 2., 3.]])"
      ]
     },
     "execution_count": 127,
     "metadata": {},
     "output_type": "execute_result"
    }
   ],
   "source": [
    "F1_test = C1_test.copy()\n",
    "F1_test"
   ]
  },
  {
   "attachments": {},
   "cell_type": "markdown",
   "metadata": {},
   "source": [
    "### Spectral Distance"
   ]
  },
  {
   "cell_type": "code",
   "execution_count": 128,
   "metadata": {},
   "outputs": [],
   "source": [
    "def spectral_distance(F0_window, C0_window):\n",
    "    spectral_difference_window = F0_window - C0_window\n",
    "    spectral_distance_window = 1/(abs(spectral_difference_window) + 1.0)\n",
    "    return spectral_difference_window, spectral_distance_window"
   ]
  },
  {
   "attachments": {},
   "cell_type": "markdown",
   "metadata": {},
   "source": [
    "### Temporal Distance"
   ]
  },
  {
   "cell_type": "code",
   "execution_count": 129,
   "metadata": {},
   "outputs": [],
   "source": [
    "def temporal_distance(C0_window, C1_window):\n",
    "    temp_difference_window = C1_window - C0_window\n",
    "    temp_distance_window = 1/(abs(temp_difference_window) + 1.0)\n",
    "    return temp_difference_window, temp_distance_window"
   ]
  },
  {
   "attachments": {},
   "cell_type": "markdown",
   "metadata": {},
   "source": [
    "### Spatial Distance"
   ]
  },
  {
   "cell_type": "code",
   "execution_count": 130,
   "metadata": {},
   "outputs": [],
   "source": [
    "def spatial_distance(F0_window):\n",
    "    coord = np.sqrt((np.mgrid[0:windowSize,0:windowSize]-windowSize//2)**2)\n",
    "    spat_dist = np.sqrt(((0-coord[0])**2+(0-coord[1])**2))\n",
    "    rel_spat_dist = spat_dist/spatImp + 1.0 # relative spatial distance\n",
    "    rev_spat_dist = 1/rel_spat_dist # relative spatial distance reversed\n",
    "    flat_spat_dist = np.ravel(rev_spat_dist)\n",
    "    return flat_spat_dist"
   ]
  },
  {
   "attachments": {},
   "cell_type": "markdown",
   "metadata": {},
   "source": [
    "### Combination Distance"
   ]
  },
  {
   "cell_type": "code",
   "execution_count": 131,
   "metadata": {},
   "outputs": [],
   "source": [
    "def combination_distance(spectral_distance_window, temporal_distance_window, spatial_distance_window):\n",
    "    if logWeight == True:\n",
    "        spectral_distance_window = np.log(spectral_distance_window+1)\n",
    "        temporal_distance_window = np.log(temporal_distance_window + 1)\n",
    "    combination_distance_window = spectral_distance_window*temporal_distance_window*spatial_distance_window\n",
    "    return combination_distance_window"
   ]
  },
  {
   "attachments": {},
   "cell_type": "markdown",
   "metadata": {},
   "source": [
    "### Similarity Threshold"
   ]
  },
  {
   "cell_type": "code",
   "execution_count": 132,
   "metadata": {},
   "outputs": [],
   "source": [
    "def similarity_threshold(F0_window):\n",
    "    F0_window = np.where(F0_window==0, np.nan, F0_window)\n",
    "\n",
    "    st_dev = np.nanstd(F0_window, axis=0)\n",
    "\n",
    "    sim_threshold = st_dev*2/numberClass\n",
    "\n",
    "    return sim_threshold"
   ]
  },
  {
   "attachments": {},
   "cell_type": "markdown",
   "metadata": {},
   "source": [
    "### Similarity Pixels"
   ]
  },
  {
   "cell_type": "code",
   "execution_count": 133,
   "metadata": {},
   "outputs": [],
   "source": [
    "def similarity_pixels(F0_window):\n",
    "    sim_threshold = similarity_threshold(F0_window)\n",
    "    similar_pixels = np.where(abs(F0_window - F0_window[mid_idx]) <= sim_threshold, 1, 0) \n",
    "\n",
    "    return similar_pixels"
   ]
  },
  {
   "attachments": {},
   "cell_type": "markdown",
   "metadata": {},
   "source": [
    "### Filtering"
   ]
  },
  {
   "cell_type": "code",
   "execution_count": 134,
   "metadata": {},
   "outputs": [],
   "source": [
    "def filtering(F0_window, spectral_distance_window, temporal_distance_window, spectral_difference_window, temporal_difference_window):\n",
    "    similar_pixels = similarity_pixels(F0_window)\n",
    "\n",
    "    max_spec_dist = abs(spectral_difference_window)[mid_idx] + specUncertainty + 1\n",
    "    max_temp_dist = abs(temporal_difference_window)[mid_idx] + tempUncertainty + 1  \n",
    "\n",
    "    spec_filter = np.where(spectral_distance_window>1.0/max_spec_dist, 1, 0)\n",
    "\n",
    "    st_filter = spec_filter\n",
    "\n",
    "    if temp == True:\n",
    "        temp_filter = np.where(temporal_distance_window>1.0/max_temp_dist, 1, 0)\n",
    "        st_filter = spec_filter*temp_filter\n",
    "\n",
    "    similar_pixels = similar_pixels*st_filter\n",
    "    return similar_pixels"
   ]
  },
  {
   "attachments": {},
   "cell_type": "markdown",
   "metadata": {},
   "source": [
    "### Weights"
   ]
  },
  {
   "cell_type": "code",
   "execution_count": 140,
   "metadata": {},
   "outputs": [],
   "source": [
    "def weighting(spec_dist, temp_dist, comb_dist, similar_pixels_filtered):\n",
    "    # Assign max weight (1) when the temporal or spectral distance is zero\n",
    "\n",
    "    zero_spec_dist = np.where(spec_dist[mid_idx] == 1, 1, 0)\n",
    "    \n",
    "    zero_temp_dist = np.where(temp_dist[mid_idx] == 1, 1, 0)\n",
    "\n",
    "    zero_dist_mid = np.where((zero_spec_dist == 1), zero_spec_dist, zero_temp_dist)\n",
    "\n",
    "    shape = np.subtract(spec_dist.shape,(0,1))\n",
    "\n",
    "    zero_dist = np.zeros(shape[1])\n",
    "\n",
    "    zero_dist = np.insert(zero_dist, [mid_idx], zero_dist_mid, axis=0)\n",
    "\n",
    "    weights = np.where((np.sum(zero_dist) == 1), zero_dist, comb_dist)\n",
    "\n",
    "    # Calculate weights only for the filtered spectrally similar pixels\n",
    "    weights_filt = weights*similar_pixels_filtered\n",
    "    \n",
    "    # Normalize weights\n",
    "    norm_weights = weights_filt/(np.sum(weights_filt))                        \n",
    "    # print (\"Done weighting!\", norm_weights)\n",
    "    \n",
    "    return norm_weights"
   ]
  },
  {
   "attachments": {},
   "cell_type": "markdown",
   "metadata": {},
   "source": [
    "## Prediction"
   ]
  },
  {
   "cell_type": "code",
   "execution_count": 142,
   "metadata": {},
   "outputs": [
    {
     "data": {
      "text/plain": [
       "array([[ 1.        ,  3.        ,  5.        ],\n",
       "       [ 4.        ,  4.57414449,  6.71733967],\n",
       "       [ 7.        ,  9.        , 11.        ]])"
      ]
     },
     "execution_count": 142,
     "metadata": {},
     "output_type": "execute_result"
    }
   ],
   "source": [
    "F0_important_pixels = {}\n",
    "for i in range(padAmount, len(padded_F0_test)-padAmount):\n",
    "    for j in range(padAmount, len(padded_F0_test[0])-padAmount):\n",
    "        F0_important_pixels[(i, j)] = padded_F0_test[i-windowSize//2:i+windowSize//2 + 1, j-windowSize//2:j+windowSize//2 + 1].flatten()\n",
    "for i, j in F0_important_pixels.keys():\n",
    "    F0_window = F0_important_pixels[(i, j)]\n",
    "    C0_window = padded_C0_test[i-windowSize//2:i+windowSize//2 + 1, j-windowSize//2:j+windowSize//2 + 1].flatten()\n",
    "    C1_window = padded_C1_test[i-windowSize//2:i+windowSize//2 + 1, j-windowSize//2:j+windowSize//2 + 1].flatten()\n",
    "\n",
    "    # Spectral Difference/Distance\n",
    "    spectral_difference_window, spectral_distance_window = spectral_distance(F0_window, C0_window)\n",
    "\n",
    "    # Temporal Difference/Distance\n",
    "    temporal_difference_window, temporal_distance_window = temporal_distance(C0_window, C1_window)\n",
    "\n",
    "    # Spatial Distance\n",
    "    spatial_distance_window = spatial_distance(F0_window)\n",
    "\n",
    "    # Combination Distance\n",
    "    combination_distance_window = combination_distance(spectral_distance_window, temporal_distance_window, spatial_distance_window)\n",
    "\n",
    "    similar_pixels_window = filtering(F0_window, spectral_distance_window, temporal_distance_window, spectral_difference_window, temporal_difference_window)\n",
    "\n",
    "    weights = weighting(spectral_distance_window, temporal_distance_window, combination_distance_window, similar_pixels_window)\n",
    "\n",
    "    pred_refl = F0_window + temporal_difference_window\n",
    "    weighted_pred_refl = np.sum(pred_refl*weights)   \n",
    "    \n",
    "    F1_test[i-padAmount][j-padAmount] = weighted_pred_refl\n",
    "F1_test\n",
    "\n",
    "\n"
   ]
  },
  {
   "attachments": {},
   "cell_type": "markdown",
   "metadata": {},
   "source": [
    "### Write a numpy array to a tiff file"
   ]
  },
  {
   "cell_type": "code",
   "execution_count": 161,
   "metadata": {},
   "outputs": [
    {
     "name": "stderr",
     "output_type": "stream",
     "text": [
      "/Users/shubhrosesingh/Library/Caches/pypoetry/virtualenvs/mystarfm-sxmhv0iY-py3.10/lib/python3.10/site-packages/rasterio/__init__.py:304: NotGeoreferencedWarning: Dataset has no geotransform, gcps, or rpcs. The identity matrix will be returned.\n",
      "  dataset = DatasetReader(path, driver=driver, sharing=sharing, **kwargs)\n",
      "/Users/shubhrosesingh/Library/Caches/pypoetry/virtualenvs/mystarfm-sxmhv0iY-py3.10/lib/python3.10/site-packages/rasterio/__init__.py:314: NotGeoreferencedWarning: The given matrix is equal to Affine.identity or its flipped counterpart. GDAL may ignore this matrix and save no geotransform without raising an error. This behavior is somewhat driver-specific.\n",
      "  dataset = writer(\n"
     ]
    }
   ],
   "source": [
    "product = rasterio.open(\"../Images/sim_Landsat_t1.tif\")\n",
    "profile = product.profile\n",
    "profile.update(dtype='float64', count=1, width=3, height=3) # number of bands\n",
    "file_name = '../results/' + 'prediction.tif'\n",
    "result = rasterio.open(file_name, 'w', **profile)\n",
    "result.write(F1_test, 1)\n",
    "result.close()"
   ]
  },
  {
   "attachments": {},
   "cell_type": "markdown",
   "metadata": {},
   "source": [
    "## Paper Link\n",
    "https://opus.bibliothek.uni-augsburg.de/opus4/frontdoor/deliver/index/docId/78805/file/STARFM_paper.pdf"
   ]
  },
  {
   "cell_type": "code",
   "execution_count": 163,
   "metadata": {},
   "outputs": [
    {
     "data": {
      "text/plain": [
       "array([[ 1.        ,  3.        ,  5.        ],\n",
       "       [ 4.        ,  4.57414449,  6.71733967],\n",
       "       [ 7.        ,  9.        , 11.        ]])"
      ]
     },
     "execution_count": 163,
     "metadata": {},
     "output_type": "execute_result"
    }
   ],
   "source": [
    "product = rasterio.open(\"../results/prediction.tif\").read(1)\n",
    "product"
   ]
  },
  {
   "cell_type": "code",
   "execution_count": null,
   "metadata": {},
   "outputs": [],
   "source": []
  }
 ],
 "metadata": {
  "kernelspec": {
   "display_name": "mystarfm-sxmhv0iY-py3.10",
   "language": "python",
   "name": "python3"
  },
  "language_info": {
   "codemirror_mode": {
    "name": "ipython",
    "version": 3
   },
   "file_extension": ".py",
   "mimetype": "text/x-python",
   "name": "python",
   "nbconvert_exporter": "python",
   "pygments_lexer": "ipython3",
   "version": "3.10.8"
  },
  "orig_nbformat": 4,
  "vscode": {
   "interpreter": {
    "hash": "ed11cc030488a70dbb1de30b4a99c89c4a768bfc79ced86979d1e7d7fd3551f8"
   }
  }
 },
 "nbformat": 4,
 "nbformat_minor": 2
}
