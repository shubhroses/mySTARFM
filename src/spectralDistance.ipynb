{
 "cells": [
  {
   "cell_type": "code",
   "execution_count": 2,
   "metadata": {},
   "outputs": [],
   "source": [
    "import cv2\n",
    "import numpy as np"
   ]
  },
  {
   "cell_type": "code",
   "execution_count": 3,
   "metadata": {},
   "outputs": [],
   "source": [
    "F0 = cv2.imread(\"../Images/sim_Landsat_t1.tif\")\n",
    "C0 = cv2.imread(\"../Images/sim_MODIS_t1.tif\")\n",
    "C1 = cv2.imread(\"../Images/sim_MODIS_t2.tif\")"
   ]
  },
  {
   "cell_type": "code",
   "execution_count": 4,
   "metadata": {},
   "outputs": [
    {
     "data": {
      "text/plain": [
       "numpy.ndarray"
      ]
     },
     "execution_count": 4,
     "metadata": {},
     "output_type": "execute_result"
    }
   ],
   "source": [
    "type(F0)"
   ]
  },
  {
   "cell_type": "code",
   "execution_count": 5,
   "metadata": {},
   "outputs": [
    {
     "data": {
      "text/plain": [
       "(150, 150, 3)"
      ]
     },
     "execution_count": 5,
     "metadata": {},
     "output_type": "execute_result"
    }
   ],
   "source": [
    "F0.shape"
   ]
  },
  {
   "cell_type": "code",
   "execution_count": 6,
   "metadata": {},
   "outputs": [
    {
     "name": "stdout",
     "output_type": "stream",
     "text": [
      "1\n"
     ]
    }
   ],
   "source": [
    "windowSize = 3\n",
    "padAmount = windowSize//2\n",
    "print(padAmount)"
   ]
  },
  {
   "cell_type": "code",
   "execution_count": 7,
   "metadata": {},
   "outputs": [],
   "source": [
    "padded_F0 = np.pad(F0, [(padAmount, padAmount), (padAmount, padAmount), (0, 0)], mode='constant', constant_values=0)"
   ]
  },
  {
   "cell_type": "code",
   "execution_count": 8,
   "metadata": {},
   "outputs": [
    {
     "data": {
      "text/plain": [
       "(152, 152, 3)"
      ]
     },
     "execution_count": 8,
     "metadata": {},
     "output_type": "execute_result"
    }
   ],
   "source": [
    "padded_F0.shape"
   ]
  },
  {
   "cell_type": "code",
   "execution_count": 9,
   "metadata": {},
   "outputs": [],
   "source": [
    "F0_test = np.array([[[1, 2, 3], [4, 5, 6]], [[7, 8, 9], [10, 11, 12]]])"
   ]
  },
  {
   "cell_type": "code",
   "execution_count": 10,
   "metadata": {},
   "outputs": [],
   "source": [
    "def padArray(arr, windowSize):\n",
    "    padAmount = windowSize//2\n",
    "    return np.pad(arr, [(padAmount, padAmount), (padAmount, padAmount), (0, 0)], mode='constant', constant_values=0)"
   ]
  },
  {
   "cell_type": "code",
   "execution_count": 11,
   "metadata": {},
   "outputs": [
    {
     "data": {
      "text/plain": [
       "(2, 2, 3)"
      ]
     },
     "execution_count": 11,
     "metadata": {},
     "output_type": "execute_result"
    }
   ],
   "source": [
    "F0_test.shape"
   ]
  },
  {
   "cell_type": "code",
   "execution_count": 12,
   "metadata": {},
   "outputs": [],
   "source": [
    "def printArray(arr):\n",
    "    for row in arr:\n",
    "        for e in row:\n",
    "            print(e, end=\" \")\n",
    "        print(\"\\n\")"
   ]
  },
  {
   "cell_type": "code",
   "execution_count": 13,
   "metadata": {},
   "outputs": [
    {
     "name": "stdout",
     "output_type": "stream",
     "text": [
      "[1 2 3] [4 5 6] \n",
      "\n",
      "[7 8 9] [10 11 12] \n",
      "\n"
     ]
    }
   ],
   "source": [
    "printArray(F0_test)"
   ]
  },
  {
   "cell_type": "code",
   "execution_count": 14,
   "metadata": {},
   "outputs": [
    {
     "data": {
      "text/plain": [
       "(2, 2, 3)"
      ]
     },
     "execution_count": 14,
     "metadata": {},
     "output_type": "execute_result"
    }
   ],
   "source": [
    "F0_test.shape"
   ]
  },
  {
   "cell_type": "code",
   "execution_count": 15,
   "metadata": {},
   "outputs": [],
   "source": [
    "np.set_printoptions(linewidth=np.inf)"
   ]
  },
  {
   "cell_type": "code",
   "execution_count": 16,
   "metadata": {},
   "outputs": [],
   "source": [
    "padded_F0_test = padArray(F0_test, 3)"
   ]
  },
  {
   "cell_type": "code",
   "execution_count": 17,
   "metadata": {},
   "outputs": [
    {
     "data": {
      "text/plain": [
       "(4, 4, 3)"
      ]
     },
     "execution_count": 17,
     "metadata": {},
     "output_type": "execute_result"
    }
   ],
   "source": [
    "padded_F0_test.shape"
   ]
  },
  {
   "cell_type": "code",
   "execution_count": 18,
   "metadata": {},
   "outputs": [
    {
     "name": "stdout",
     "output_type": "stream",
     "text": [
      "[0 0 0] [0 0 0] [0 0 0] [0 0 0] \n",
      "\n",
      "[0 0 0] [1 2 3] [4 5 6] [0 0 0] \n",
      "\n",
      "[0 0 0] [7 8 9] [10 11 12] [0 0 0] \n",
      "\n",
      "[0 0 0] [0 0 0] [0 0 0] [0 0 0] \n",
      "\n"
     ]
    }
   ],
   "source": [
    "printArray(padded_F0_test)"
   ]
  },
  {
   "cell_type": "code",
   "execution_count": 19,
   "metadata": {},
   "outputs": [
    {
     "name": "stdout",
     "output_type": "stream",
     "text": [
      "1\n"
     ]
    }
   ],
   "source": [
    "print(padAmount)"
   ]
  },
  {
   "cell_type": "code",
   "execution_count": 20,
   "metadata": {},
   "outputs": [
    {
     "name": "stdout",
     "output_type": "stream",
     "text": [
      "[0 0 0] [0 0 0] [0 0 0] \n",
      "\n",
      "[0 0 0] [1 2 3] [4 5 6] \n",
      "\n",
      "[0 0 0] [7 8 9] [10 11 12] \n",
      "\n"
     ]
    }
   ],
   "source": [
    "i, j = 1, 1\n",
    "window = padded_F0_test[i-windowSize//2:i+windowSize//2+1, j-windowSize//2:j+windowSize//2+1]\n",
    "printArray(window)"
   ]
  },
  {
   "cell_type": "code",
   "execution_count": 21,
   "metadata": {},
   "outputs": [
    {
     "name": "stdout",
     "output_type": "stream",
     "text": [
      "[0 0 0] [0 0 0] [0 0 0] \n",
      "\n",
      "[0 0 0] [1 2 3] [4 5 6] \n",
      "\n",
      "[0 0 0] [7 8 9] [10 11 12] \n",
      "\n",
      "NEXT WINDOW\n",
      "[0 0 0] [0 0 0] [0 0 0] \n",
      "\n",
      "[1 2 3] [4 5 6] [0 0 0] \n",
      "\n",
      "[7 8 9] [10 11 12] [0 0 0] \n",
      "\n",
      "NEXT WINDOW\n",
      "[0 0 0] [1 2 3] [4 5 6] \n",
      "\n",
      "[0 0 0] [7 8 9] [10 11 12] \n",
      "\n",
      "[0 0 0] [0 0 0] [0 0 0] \n",
      "\n",
      "NEXT WINDOW\n",
      "[1 2 3] [4 5 6] [0 0 0] \n",
      "\n",
      "[7 8 9] [10 11 12] [0 0 0] \n",
      "\n",
      "[0 0 0] [0 0 0] [0 0 0] \n",
      "\n",
      "NEXT WINDOW\n"
     ]
    }
   ],
   "source": [
    "for i in range(padAmount, len(padded_F0_test)-padAmount):\n",
    "    for j in range(padAmount, len(padded_F0_test[0])-padAmount):\n",
    "        window = padded_F0_test[i-windowSize//2:i+windowSize//2+1, j-windowSize//2:j+windowSize//2+1]\n",
    "        printArray(window)\n",
    "        print(\"NEXT WINDOW\")\n",
    "    "
   ]
  },
  {
   "attachments": {},
   "cell_type": "markdown",
   "metadata": {},
   "source": [
    "# TESTING SPECTRAL DISTANCE"
   ]
  },
  {
   "cell_type": "code",
   "execution_count": 35,
   "metadata": {},
   "outputs": [],
   "source": [
    "import cv2\n",
    "import numpy as np"
   ]
  },
  {
   "cell_type": "code",
   "execution_count": 36,
   "metadata": {},
   "outputs": [],
   "source": [
    "windowSize = 3\n",
    "padAmount = windowSize//2\n",
    "spatImp = 150"
   ]
  },
  {
   "attachments": {},
   "cell_type": "markdown",
   "metadata": {},
   "source": [
    "### Padding array"
   ]
  },
  {
   "cell_type": "code",
   "execution_count": 24,
   "metadata": {},
   "outputs": [],
   "source": [
    "def padArray(arr, windowSize):\n",
    "    padAmount = windowSize//2\n",
    "    return np.pad(arr, [(padAmount, padAmount), (padAmount, padAmount), (0, 0)], mode='constant', constant_values=0)"
   ]
  },
  {
   "attachments": {},
   "cell_type": "markdown",
   "metadata": {},
   "source": [
    "### Print cell"
   ]
  },
  {
   "cell_type": "code",
   "execution_count": 25,
   "metadata": {},
   "outputs": [],
   "source": [
    "def printArray(arr):\n",
    "    for row in arr:\n",
    "        for e in row:\n",
    "            print(e, end=\" \")\n",
    "        print(\"\\n\")"
   ]
  },
  {
   "cell_type": "code",
   "execution_count": 26,
   "metadata": {},
   "outputs": [],
   "source": [
    "F0_test = np.array([[[1, 2, 3], [4, 5, 6]], [[7, 8, 9], [10, 11, 12]]])\n",
    "padded_F0_test = padArray(F0_test, windowSize)"
   ]
  },
  {
   "cell_type": "code",
   "execution_count": 27,
   "metadata": {},
   "outputs": [],
   "source": [
    "C0_test = np.array([[[1, 1, 1], [1, 1, 1]], [[1, 1, 1], [1, 1, 1]]])\n",
    "padded_C0_test = padArray(C0_test, windowSize)"
   ]
  },
  {
   "cell_type": "code",
   "execution_count": 64,
   "metadata": {},
   "outputs": [],
   "source": [
    "C1_test = np.array([[[1, 2, 3], [1, 2, 3]], [[1, 2, 3], [1, 2, 3]]])\n",
    "padded_C1_test = padArray(C1_test, windowSize)"
   ]
  },
  {
   "attachments": {},
   "cell_type": "markdown",
   "metadata": {},
   "source": [
    "### Spectral Distance"
   ]
  },
  {
   "cell_type": "code",
   "execution_count": 62,
   "metadata": {},
   "outputs": [
    {
     "name": "stdout",
     "output_type": "stream",
     "text": [
      "3 3 3\n",
      "Window around point (1, 1)\n",
      "[0.99065997 0.99065997 0.99065997] [0.99337748 0.99337748 0.99337748] [0.99065997 0.99065997 0.99065997] \n",
      "\n",
      "[0.99337748 0.99337748 0.99337748] [1. 1. 1.] [0.99337748 0.99337748 0.99337748] \n",
      "\n",
      "[0.99065997 0.99065997 0.99065997] [0.99337748 0.99337748 0.99337748] [0.99065997 0.99065997 0.99065997] \n",
      "\n"
     ]
    }
   ],
   "source": [
    "for i in range(padAmount, len(padded_F0_test)-padAmount):\n",
    "    for j in range(padAmount, len(padded_F0_test[0])-padAmount):\n",
    "        F0_window = padded_F0_test[i-windowSize//2:i+windowSize//2+1, j-windowSize//2:j+windowSize//2+1]\n",
    "        C0_window = padded_C0_test[i-windowSize//2:i+windowSize//2+1, j-windowSize//2:j+windowSize//2+1]\n",
    "        C1_window = padded_C1_test[i-windowSize//2:i+windowSize//2+1, j-windowSize//2:j+windowSize//2+1]\n",
    "\n",
    "        x, y, z = F0_window.shape\n",
    "\n",
    "        print(f\"Window around point ({i}, {j})\")\n",
    "\n",
    "        # Spectral Difference/Distance\n",
    "        spectral_difference_window = F0_window - C0_window\n",
    "        spectral_distance_window = 1/(abs(spectral_difference_window) + 1.0)\n",
    "        \n",
    "        # Temporal Difference/Distance\n",
    "        temp_difference_window = C1_window - C0_window\n",
    "        temp_distance_window = 1/(abs(temp_difference_window) + 1.0)\n",
    "        # print(temp_distance_window.shape)\n",
    "    \n",
    "        # Spatial Distance\n",
    "        coord = np.sqrt((np.mgrid[0:windowSize,0:windowSize]-windowSize//2)**2)\n",
    "        spat_dist = np.sqrt(((0-coord[0])**2+(0-coord[1])**2))\n",
    "        rel_spat_dist = spat_dist/spatImp + 1.0 # relative spatial distance\n",
    "        rev_spat_dist = 1/rel_spat_dist # relative spatial distance reversed\n",
    "        rev_spat_dist = np.repeat(rev_spat_dist[:,:,np.newaxis], z, axis=2)\n"
   ]
  },
  {
   "attachments": {},
   "cell_type": "markdown",
   "metadata": {},
   "source": [
    "## Temporal Distance"
   ]
  },
  {
   "cell_type": "code",
   "execution_count": null,
   "metadata": {},
   "outputs": [],
   "source": []
  }
 ],
 "metadata": {
  "kernelspec": {
   "display_name": "mystarfm-sxmhv0iY-py3.10",
   "language": "python",
   "name": "python3"
  },
  "language_info": {
   "codemirror_mode": {
    "name": "ipython",
    "version": 3
   },
   "file_extension": ".py",
   "mimetype": "text/x-python",
   "name": "python",
   "nbconvert_exporter": "python",
   "pygments_lexer": "ipython3",
   "version": "3.10.8"
  },
  "orig_nbformat": 4,
  "vscode": {
   "interpreter": {
    "hash": "ed11cc030488a70dbb1de30b4a99c89c4a768bfc79ced86979d1e7d7fd3551f8"
   }
  }
 },
 "nbformat": 4,
 "nbformat_minor": 2
}
