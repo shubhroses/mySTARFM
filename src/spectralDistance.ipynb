{
 "cells": [
  {
   "cell_type": "code",
   "execution_count": 46,
   "metadata": {},
   "outputs": [],
   "source": [
    "import cv2\n",
    "import numpy as np"
   ]
  },
  {
   "cell_type": "code",
   "execution_count": 47,
   "metadata": {},
   "outputs": [],
   "source": [
    "F0 = cv2.imread(\"../Images/sim_Landsat_t1.tif\")\n",
    "C0 = cv2.imread(\"../Images/sim_MODIS_t1.tif\")\n",
    "C1 = cv2.imread(\"../Images/sim_MODIS_t2.tif\")"
   ]
  },
  {
   "cell_type": "code",
   "execution_count": 48,
   "metadata": {},
   "outputs": [
    {
     "data": {
      "text/plain": [
       "numpy.ndarray"
      ]
     },
     "execution_count": 48,
     "metadata": {},
     "output_type": "execute_result"
    }
   ],
   "source": [
    "type(F0)"
   ]
  },
  {
   "cell_type": "code",
   "execution_count": 49,
   "metadata": {},
   "outputs": [
    {
     "data": {
      "text/plain": [
       "(150, 150, 3)"
      ]
     },
     "execution_count": 49,
     "metadata": {},
     "output_type": "execute_result"
    }
   ],
   "source": [
    "F0.shape"
   ]
  },
  {
   "cell_type": "code",
   "execution_count": 50,
   "metadata": {},
   "outputs": [
    {
     "name": "stdout",
     "output_type": "stream",
     "text": [
      "1\n"
     ]
    }
   ],
   "source": [
    "windowSize = 3\n",
    "padAmount = windowSize//2\n",
    "print(padAmount)"
   ]
  },
  {
   "cell_type": "code",
   "execution_count": 51,
   "metadata": {},
   "outputs": [],
   "source": [
    "padded_F0 = np.pad(F0, [(padAmount, padAmount), (padAmount, padAmount), (0, 0)], mode='constant', constant_values=0)"
   ]
  },
  {
   "cell_type": "code",
   "execution_count": 52,
   "metadata": {},
   "outputs": [
    {
     "data": {
      "text/plain": [
       "(152, 152, 3)"
      ]
     },
     "execution_count": 52,
     "metadata": {},
     "output_type": "execute_result"
    }
   ],
   "source": [
    "padded_F0.shape"
   ]
  },
  {
   "cell_type": "code",
   "execution_count": 53,
   "metadata": {},
   "outputs": [],
   "source": [
    "F0_test = np.array([[[1, 2, 3], [4, 5, 6]], [[7, 8, 9], [10, 11, 12]]])"
   ]
  },
  {
   "cell_type": "code",
   "execution_count": 54,
   "metadata": {},
   "outputs": [],
   "source": [
    "def padArray(arr, windowSize):\n",
    "    padAmount = windowSize//2\n",
    "    return np.pad(arr, [(padAmount, padAmount), (padAmount, padAmount), (0, 0)], mode='constant', constant_values=0)"
   ]
  },
  {
   "cell_type": "code",
   "execution_count": 55,
   "metadata": {},
   "outputs": [
    {
     "data": {
      "text/plain": [
       "(2, 2, 3)"
      ]
     },
     "execution_count": 55,
     "metadata": {},
     "output_type": "execute_result"
    }
   ],
   "source": [
    "F0_test.shape"
   ]
  },
  {
   "cell_type": "code",
   "execution_count": 56,
   "metadata": {},
   "outputs": [
    {
     "data": {
      "text/plain": [
       "(2, 2, 3)"
      ]
     },
     "execution_count": 56,
     "metadata": {},
     "output_type": "execute_result"
    }
   ],
   "source": [
    "F0_test.shape"
   ]
  },
  {
   "cell_type": "code",
   "execution_count": 57,
   "metadata": {},
   "outputs": [],
   "source": [
    "np.set_printoptions(linewidth=np.inf)"
   ]
  },
  {
   "cell_type": "code",
   "execution_count": 58,
   "metadata": {},
   "outputs": [],
   "source": [
    "padded_F0_test = padArray(F0_test, 3)"
   ]
  },
  {
   "cell_type": "code",
   "execution_count": 59,
   "metadata": {},
   "outputs": [
    {
     "data": {
      "text/plain": [
       "(4, 4, 3)"
      ]
     },
     "execution_count": 59,
     "metadata": {},
     "output_type": "execute_result"
    }
   ],
   "source": [
    "padded_F0_test.shape"
   ]
  },
  {
   "cell_type": "code",
   "execution_count": 60,
   "metadata": {},
   "outputs": [
    {
     "name": "stdout",
     "output_type": "stream",
     "text": [
      "[[[ 0  0  0]\n",
      "  [ 0  0  0]\n",
      "  [ 0  0  0]\n",
      "  [ 0  0  0]]\n",
      "\n",
      " [[ 0  0  0]\n",
      "  [ 1  2  3]\n",
      "  [ 4  5  6]\n",
      "  [ 0  0  0]]\n",
      "\n",
      " [[ 0  0  0]\n",
      "  [ 7  8  9]\n",
      "  [10 11 12]\n",
      "  [ 0  0  0]]\n",
      "\n",
      " [[ 0  0  0]\n",
      "  [ 0  0  0]\n",
      "  [ 0  0  0]\n",
      "  [ 0  0  0]]]\n"
     ]
    }
   ],
   "source": [
    "print(padded_F0_test)"
   ]
  },
  {
   "cell_type": "code",
   "execution_count": 61,
   "metadata": {},
   "outputs": [
    {
     "name": "stdout",
     "output_type": "stream",
     "text": [
      "1\n"
     ]
    }
   ],
   "source": [
    "print(padAmount)"
   ]
  },
  {
   "cell_type": "code",
   "execution_count": 62,
   "metadata": {},
   "outputs": [
    {
     "name": "stdout",
     "output_type": "stream",
     "text": [
      "[[[ 0  0  0]\n",
      "  [ 0  0  0]\n",
      "  [ 0  0  0]]\n",
      "\n",
      " [[ 0  0  0]\n",
      "  [ 1  2  3]\n",
      "  [ 4  5  6]]\n",
      "\n",
      " [[ 0  0  0]\n",
      "  [ 7  8  9]\n",
      "  [10 11 12]]]\n"
     ]
    }
   ],
   "source": [
    "i, j = 1, 1\n",
    "window = padded_F0_test[i-windowSize//2:i+windowSize//2+1, j-windowSize//2:j+windowSize//2+1]\n",
    "print(window)"
   ]
  },
  {
   "cell_type": "code",
   "execution_count": 63,
   "metadata": {},
   "outputs": [
    {
     "name": "stdout",
     "output_type": "stream",
     "text": [
      "[[[ 0  0  0]\n",
      "  [ 0  0  0]\n",
      "  [ 0  0  0]]\n",
      "\n",
      " [[ 0  0  0]\n",
      "  [ 1  2  3]\n",
      "  [ 4  5  6]]\n",
      "\n",
      " [[ 0  0  0]\n",
      "  [ 7  8  9]\n",
      "  [10 11 12]]]\n",
      "NEXT WINDOW\n",
      "[[[ 0  0  0]\n",
      "  [ 0  0  0]\n",
      "  [ 0  0  0]]\n",
      "\n",
      " [[ 1  2  3]\n",
      "  [ 4  5  6]\n",
      "  [ 0  0  0]]\n",
      "\n",
      " [[ 7  8  9]\n",
      "  [10 11 12]\n",
      "  [ 0  0  0]]]\n",
      "NEXT WINDOW\n",
      "[[[ 0  0  0]\n",
      "  [ 1  2  3]\n",
      "  [ 4  5  6]]\n",
      "\n",
      " [[ 0  0  0]\n",
      "  [ 7  8  9]\n",
      "  [10 11 12]]\n",
      "\n",
      " [[ 0  0  0]\n",
      "  [ 0  0  0]\n",
      "  [ 0  0  0]]]\n",
      "NEXT WINDOW\n",
      "[[[ 1  2  3]\n",
      "  [ 4  5  6]\n",
      "  [ 0  0  0]]\n",
      "\n",
      " [[ 7  8  9]\n",
      "  [10 11 12]\n",
      "  [ 0  0  0]]\n",
      "\n",
      " [[ 0  0  0]\n",
      "  [ 0  0  0]\n",
      "  [ 0  0  0]]]\n",
      "NEXT WINDOW\n"
     ]
    }
   ],
   "source": [
    "for i in range(padAmount, len(padded_F0_test)-padAmount):\n",
    "    for j in range(padAmount, len(padded_F0_test[0])-padAmount):\n",
    "        window = padded_F0_test[i-windowSize//2:i+windowSize//2+1, j-windowSize//2:j+windowSize//2+1]\n",
    "        print(window)\n",
    "        print(\"NEXT WINDOW\")\n",
    "    "
   ]
  },
  {
   "attachments": {},
   "cell_type": "markdown",
   "metadata": {},
   "source": [
    "# TESTING PREDICTION"
   ]
  },
  {
   "cell_type": "code",
   "execution_count": 64,
   "metadata": {},
   "outputs": [],
   "source": [
    "import cv2\n",
    "import numpy as np"
   ]
  },
  {
   "cell_type": "code",
   "execution_count": 65,
   "metadata": {},
   "outputs": [],
   "source": [
    "# Set the size of the moving window in which the search for similar pixels \n",
    "# is performed\n",
    "windowSize = 3\n",
    "\n",
    "# Set the path where the results should be stored\n",
    "path = 'STARFM_demo/'\n",
    "\n",
    "# Set to True if you want to decrease the sensitivity to the spectral distance\n",
    "logWeight = False\n",
    "\n",
    "# If more than one training pairs are used, set to True\n",
    "temp = False\n",
    "\n",
    "# The spatial impact factor is a constant defining the relative importance of \n",
    "# spatial distance (in meters)\n",
    "# Take a smaller value of the spatial impact factor for heterogeneous regions \n",
    "# (e.g. A = 150 m)\n",
    "spatImp = 150 \n",
    "\n",
    "# increasing the number of classes limits the number of similar pixels\n",
    "numberClass = 4\n",
    "\n",
    "# Set the uncertainty value for the fine resolution sensor\n",
    "# https://earth.esa.int/web/sentinel/technical-guides/sentinel-2-msi/performance \n",
    "uncertaintyFineRes = 0.03\n",
    "\n",
    "# Set the uncertainty value for the coarse resolution sensor\n",
    "# https://sentinels.copernicus.eu/web/sentinel/technical-guides/sentinel-3-olci/validation\n",
    "uncertaintyCoarseRes = 0.03\n",
    "\n",
    "# Other global variables\n",
    "mid_idx = (windowSize**2)//2\n",
    "specUncertainty = np.sqrt(uncertaintyFineRes**2 + uncertaintyCoarseRes**2)\n",
    "tempUncertainty = np.sqrt(2*uncertaintyCoarseRes**2)\n",
    "\n",
    "# Set the size of the slices in which to divide the image\n",
    "# This number should be multiple of the image height and not bigger than it\n",
    "# Use bigger size for small images\n",
    "sizeSlices = 150\n",
    "\n",
    "# The depth of zeros to pad around each numpy array\n",
    "padAmount = windowSize//2"
   ]
  },
  {
   "attachments": {},
   "cell_type": "markdown",
   "metadata": {},
   "source": [
    "### Padding array"
   ]
  },
  {
   "cell_type": "code",
   "execution_count": 66,
   "metadata": {},
   "outputs": [],
   "source": [
    "def padArray(arr, windowSize):\n",
    "    return np.pad(arr, [(padAmount, padAmount), (padAmount, padAmount), (0, 0)], mode='constant', constant_values=0)"
   ]
  },
  {
   "cell_type": "code",
   "execution_count": 67,
   "metadata": {},
   "outputs": [
    {
     "data": {
      "text/plain": [
       "array([[0., 0., 0., 0., 0.],\n",
       "       [0., 1., 2., 3., 0.],\n",
       "       [0., 4., 5., 6., 0.],\n",
       "       [0., 7., 8., 9., 0.],\n",
       "       [0., 0., 0., 0., 0.]])"
      ]
     },
     "execution_count": 67,
     "metadata": {},
     "output_type": "execute_result"
    }
   ],
   "source": [
    "F0_test = np.array([[1.0, 2.0, 3.0], [4.0, 5.0, 6.0], [7.0, 8.0, 9.0]])\n",
    "padded_F0_test = np.pad(F0_test, pad_width=windowSize//2, mode='constant', constant_values=0)\n",
    "padded_F0_test"
   ]
  },
  {
   "cell_type": "code",
   "execution_count": 68,
   "metadata": {},
   "outputs": [
    {
     "data": {
      "text/plain": [
       "array([[0., 0., 0., 0., 0.],\n",
       "       [0., 1., 1., 1., 0.],\n",
       "       [0., 1., 1., 1., 0.],\n",
       "       [0., 1., 1., 1., 0.],\n",
       "       [0., 0., 0., 0., 0.]])"
      ]
     },
     "execution_count": 68,
     "metadata": {},
     "output_type": "execute_result"
    }
   ],
   "source": [
    "C0_test = np.array([[1.0, 1.0, 1.0], [1.0, 1.0, 1.0], [1.0, 1.0, 1.0]])\n",
    "padded_C0_test = np.pad(C0_test, pad_width=windowSize//2, mode='constant', constant_values=0)\n",
    "padded_C0_test"
   ]
  },
  {
   "cell_type": "code",
   "execution_count": 69,
   "metadata": {},
   "outputs": [
    {
     "data": {
      "text/plain": [
       "array([[0., 0., 0., 0., 0.],\n",
       "       [0., 1., 2., 3., 0.],\n",
       "       [0., 1., 2., 3., 0.],\n",
       "       [0., 1., 2., 3., 0.],\n",
       "       [0., 0., 0., 0., 0.]])"
      ]
     },
     "execution_count": 69,
     "metadata": {},
     "output_type": "execute_result"
    }
   ],
   "source": [
    "C1_test = np.array([[1.0, 2.0, 3.0], [1.0, 2.0, 3.0], [1.0, 2.0, 3.0]])\n",
    "padded_C1_test = np.pad(C1_test, pad_width=windowSize//2, mode='constant', constant_values=0)\n",
    "padded_C1_test"
   ]
  },
  {
   "cell_type": "code",
   "execution_count": 70,
   "metadata": {},
   "outputs": [
    {
     "data": {
      "text/plain": [
       "array([[1., 2., 3.],\n",
       "       [1., 2., 3.],\n",
       "       [1., 2., 3.]])"
      ]
     },
     "execution_count": 70,
     "metadata": {},
     "output_type": "execute_result"
    }
   ],
   "source": [
    "F1_test = C1_test.copy()\n",
    "F1_test"
   ]
  },
  {
   "attachments": {},
   "cell_type": "markdown",
   "metadata": {},
   "source": [
    "### Spectral Distance"
   ]
  },
  {
   "cell_type": "code",
   "execution_count": 71,
   "metadata": {},
   "outputs": [],
   "source": [
    "def spectral_distance(F0_window, C0_window):\n",
    "    spectral_difference_window = F0_window - C0_window\n",
    "    spectral_distance_window = 1/(abs(spectral_difference_window) + 1.0)\n",
    "    return spectral_difference_window, spectral_distance_window"
   ]
  },
  {
   "attachments": {},
   "cell_type": "markdown",
   "metadata": {},
   "source": [
    "### Temporal Distance"
   ]
  },
  {
   "cell_type": "code",
   "execution_count": 72,
   "metadata": {},
   "outputs": [],
   "source": [
    "def temporal_distance(C0_window, C1_window):\n",
    "    temp_difference_window = C1_window - C0_window\n",
    "    temp_distance_window = 1/(abs(temp_difference_window) + 1.0)\n",
    "    return temp_difference_window, temp_distance_window"
   ]
  },
  {
   "attachments": {},
   "cell_type": "markdown",
   "metadata": {},
   "source": [
    "### Spatial Distance"
   ]
  },
  {
   "cell_type": "code",
   "execution_count": 73,
   "metadata": {},
   "outputs": [],
   "source": [
    "def spatial_distance(F0_window):\n",
    "    coord = np.sqrt((np.mgrid[0:windowSize,0:windowSize]-windowSize//2)**2)\n",
    "    spat_dist = np.sqrt(((0-coord[0])**2+(0-coord[1])**2))\n",
    "    rel_spat_dist = spat_dist/spatImp + 1.0 # relative spatial distance\n",
    "    rev_spat_dist = 1/rel_spat_dist # relative spatial distance reversed\n",
    "    flat_spat_dist = np.ravel(rev_spat_dist)\n",
    "    # spatial_distance_window = np.repeat(flat_spat_dist[:, np.newaxis], 3, axis=1)\n",
    "    return flat_spat_dist"
   ]
  },
  {
   "attachments": {},
   "cell_type": "markdown",
   "metadata": {},
   "source": [
    "### Combination Distance"
   ]
  },
  {
   "cell_type": "code",
   "execution_count": 74,
   "metadata": {},
   "outputs": [],
   "source": [
    "def combination_distance(spectral_distance_window, temporal_distance_window, spatial_distance_window):\n",
    "    if logWeight == True:\n",
    "        spectral_distance_window = np.log(spectral_distance_window+1)\n",
    "        temporal_distance_window = np.log(temporal_distance_window + 1)\n",
    "    combination_distance_window = spectral_distance_window*temporal_distance_window*spatial_distance_window\n",
    "    return combination_distance_window"
   ]
  },
  {
   "attachments": {},
   "cell_type": "markdown",
   "metadata": {},
   "source": [
    "### Similarity Threshold"
   ]
  },
  {
   "cell_type": "code",
   "execution_count": 75,
   "metadata": {},
   "outputs": [],
   "source": [
    "def similarity_threshold(F0_window):\n",
    "    F0_window = np.where(F0_window==0, np.nan, F0_window)\n",
    "    # print(F0_window)\n",
    "    # print(\"IN FUNCTION: similarity_threshold\")\n",
    "    # print(\"similar_pixels :\", F0_window)\n",
    "    st_dev = np.nanstd(F0_window, axis=0)\n",
    "    # print(\"st_dev :\", st_dev)\n",
    "    # print(st_dev)\n",
    "    sim_threshold = st_dev*2/numberClass\n",
    "    # print(\"sim_threshold :\", sim_threshold)\n",
    "    # print(sim_threshold)\n",
    "    return sim_threshold"
   ]
  },
  {
   "attachments": {},
   "cell_type": "markdown",
   "metadata": {},
   "source": [
    "### Similarity Pixels"
   ]
  },
  {
   "cell_type": "code",
   "execution_count": 76,
   "metadata": {},
   "outputs": [],
   "source": [
    "def similarity_pixels(F0_window):\n",
    "    sim_threshold = similarity_threshold(F0_window)\n",
    "    # print(\"IN FUNCTION: similarity_pixels\")\n",
    "    # print(\"sim_threshold :\", sim_threshold)\n",
    "    similar_pixels = np.where(abs(F0_window - F0_window[mid_idx]) <= sim_threshold, 1, 0) \n",
    "    # print(\"similar_pixels :\", similar_pixels)\n",
    "    return similar_pixels"
   ]
  },
  {
   "attachments": {},
   "cell_type": "markdown",
   "metadata": {},
   "source": [
    "### Filtering"
   ]
  },
  {
   "cell_type": "code",
   "execution_count": 77,
   "metadata": {},
   "outputs": [],
   "source": [
    "def filtering(F0_window, spectral_distance_window, temporal_distance_window, spectral_difference_window, temporal_difference_window):\n",
    "    similar_pixels = similarity_pixels(F0_window)\n",
    "    # print(\"IN FUNCTION: filtering\")\n",
    "    # print(\"similar_pixels :\", similar_pixels)\n",
    "    max_spec_dist = abs(spectral_difference_window)[mid_idx] + specUncertainty + 1\n",
    "    max_temp_dist = abs(temporal_difference_window)[mid_idx] + tempUncertainty + 1  \n",
    "    # print(\"max_spec_dist\", max_spec_dist)\n",
    "    # print(\"max_temp_dist\", max_temp_dist)\n",
    "    spec_filter = np.where(spectral_distance_window>1.0/max_spec_dist, 1, 0)\n",
    "    # print(\"spec_filter :\", spec_filter)\n",
    "    st_filter = spec_filter\n",
    "\n",
    "    # print(st_filter)\n",
    "\n",
    "    if temp == True:\n",
    "        temp_filter = np.where(temporal_distance_window>1.0/max_temp_dist, 1, 0)\n",
    "        st_filter = spec_filter*temp_filter\n",
    "\n",
    "    similar_pixels = similar_pixels*st_filter\n",
    "    return similar_pixels"
   ]
  },
  {
   "attachments": {},
   "cell_type": "markdown",
   "metadata": {},
   "source": [
    "### Weights"
   ]
  },
  {
   "cell_type": "code",
   "execution_count": 78,
   "metadata": {},
   "outputs": [],
   "source": [
    "def weighting(spec_dist, temp_dist, comb_dist, similar_pixels_filtered):\n",
    "    # Assign max weight (1) when the temporal or spectral distance is zero\n",
    "    # print(\"WEIGHTS FUNCTION\")\n",
    "    zero_spec_dist = np.where(spec_dist[mid_idx] == 1, 1, 0)\n",
    "    # print(\"zero_spec_dist: \", zero_spec_dist)\n",
    "    \n",
    "    zero_temp_dist = np.where(temp_dist[mid_idx] == 1, 1, 0)\n",
    "    # print(\"zero_temp_dist: \", zero_temp_dist)\n",
    "\n",
    "    zero_dist_mid = np.where((zero_spec_dist == 1), zero_spec_dist, zero_temp_dist)\n",
    "    # print(\"zero_dist_mid: \", zero_dist_mid)\n",
    "\n",
    "    shape = np.subtract(spec_dist.shape,(0,1))\n",
    "    # print(\"shape: \", shape)\n",
    "\n",
    "    zero_dist = np.zeros(shape[1])\n",
    "    # print(\"zero_dist\", zero_dist)\n",
    "    zero_dist = np.insert(zero_dist, [mid_idx], zero_dist_mid, axis=0)\n",
    "    # print(\"zero_dist\", zero_dist)\n",
    "    weights = np.where((np.sum(zero_dist) == 1), zero_dist, comb_dist)\n",
    "    # print(\"weights\", weights)\n",
    "    # Calculate weights only for the filtered spectrally similar pixels\n",
    "    weights_filt = weights*similar_pixels_filtered\n",
    "    # print(\"weights_filt\", weights_filt)\n",
    "    \n",
    "    # Normalize weights\n",
    "    norm_weights = weights_filt/(np.sum(weights_filt))\n",
    "                            \n",
    "    # print (\"Done weighting!\", norm_weights)\n",
    "    \n",
    "    return norm_weights"
   ]
  },
  {
   "attachments": {},
   "cell_type": "markdown",
   "metadata": {},
   "source": [
    "## Prediction"
   ]
  },
  {
   "cell_type": "code",
   "execution_count": 79,
   "metadata": {},
   "outputs": [
    {
     "name": "stdout",
     "output_type": "stream",
     "text": [
      "1.0\n",
      "3.0\n",
      "5.0\n",
      "4.0\n",
      "4.574144486692015\n",
      "6.7173396674584325\n",
      "7.0\n",
      "9.0\n",
      "11.0\n"
     ]
    },
    {
     "data": {
      "text/plain": [
       "array([[ 1.        ,  3.        ,  5.        ],\n",
       "       [ 4.        ,  4.57414449,  6.71733967],\n",
       "       [ 7.        ,  9.        , 11.        ]])"
      ]
     },
     "execution_count": 79,
     "metadata": {},
     "output_type": "execute_result"
    }
   ],
   "source": [
    "for i in range(padAmount, len(padded_F0_test)-padAmount):\n",
    "    for j in range(padAmount, len(padded_F0_test[0])-padAmount):\n",
    "        F0_window = padded_F0_test[i-windowSize//2:i+windowSize//2 + 1, j-windowSize//2:j+windowSize//2 + 1].flatten()\n",
    "        C0_window = padded_C0_test[i-windowSize//2:i+windowSize//2 + 1, j-windowSize//2:j+windowSize//2 + 1].flatten()\n",
    "        C1_window = padded_C1_test[i-windowSize//2:i+windowSize//2 + 1, j-windowSize//2:j+windowSize//2 + 1].flatten()\n",
    "\n",
    "        # print(f\"Window around point ({i}, {j})\")\n",
    "        # print(\"F0_window\")\n",
    "        # print(F0_window)\n",
    "\n",
    "        # print(\"C0_window\")\n",
    "        # print(C0_window)\n",
    "\n",
    "        # print(\"C1_window\")\n",
    "        # print(C1_window)\n",
    "\n",
    "        # Spectral Difference/Distance\n",
    "        spectral_difference_window, spectral_distance_window = spectral_distance(F0_window, C0_window)\n",
    "\n",
    "        # print(\"spectral_difference_window\")\n",
    "        # print(spectral_difference_window)\n",
    "        # print(\"spectral_distance_window\")\n",
    "        # print(spectral_distance_window)\n",
    "        \n",
    "        # Temporal Difference/Distance\n",
    "        temporal_difference_window, temporal_distance_window = temporal_distance(C0_window, C1_window)\n",
    "        # print(\"temporal_difference_window\")\n",
    "        # print(temporal_difference_window)\n",
    "        # print(\"temporal_distance_window\")\n",
    "        # print(temporal_distance_window)\n",
    "    \n",
    "        # Spatial Distance\n",
    "        spatial_distance_window = spatial_distance(F0_window)\n",
    "        # print(\"spatial_distance_window\")\n",
    "        # print(spatial_distance_window)\n",
    "\n",
    "        combination_distance_window = combination_distance(spectral_distance_window, temporal_distance_window, spatial_distance_window)\n",
    "        # print(\"combination_distance_window\")\n",
    "        # print(combination_distance_window)\n",
    "\n",
    "        # print(F0_window)\n",
    "\n",
    "        similar_pixels_window = filtering(F0_window, spectral_distance_window, temporal_distance_window, spectral_difference_window, temporal_difference_window)\n",
    "        # print(\"similar_pixels_window\")\n",
    "        # print(similar_pixels_window)\n",
    "\n",
    "        weights = weighting(spectral_distance_window, temporal_distance_window, combination_distance_window, similar_pixels_window)\n",
    "\n",
    "        # print(\"weights\")\n",
    "        # print(weights)\n",
    "\n",
    "\n",
    "        pred_refl = F0_window + temporal_difference_window\n",
    "        weighted_pred_refl = np.sum(pred_refl*weights)   \n",
    "        \n",
    "        F1_test[i-padAmount][j-padAmount] = weighted_pred_refl\n",
    "F1_test\n",
    "\n",
    "\n",
    "        \n",
    "        \n",
    "    \n",
    "\n",
    "        \n"
   ]
  },
  {
   "attachments": {},
   "cell_type": "markdown",
   "metadata": {},
   "source": [
    "## Paper Link\n",
    "https://opus.bibliothek.uni-augsburg.de/opus4/frontdoor/deliver/index/docId/78805/file/STARFM_paper.pdf"
   ]
  },
  {
   "cell_type": "code",
   "execution_count": null,
   "metadata": {},
   "outputs": [],
   "source": []
  }
 ],
 "metadata": {
  "kernelspec": {
   "display_name": "mystarfm-sxmhv0iY-py3.10",
   "language": "python",
   "name": "python3"
  },
  "language_info": {
   "codemirror_mode": {
    "name": "ipython",
    "version": 3
   },
   "file_extension": ".py",
   "mimetype": "text/x-python",
   "name": "python",
   "nbconvert_exporter": "python",
   "pygments_lexer": "ipython3",
   "version": "3.10.8"
  },
  "orig_nbformat": 4,
  "vscode": {
   "interpreter": {
    "hash": "ed11cc030488a70dbb1de30b4a99c89c4a768bfc79ced86979d1e7d7fd3551f8"
   }
  }
 },
 "nbformat": 4,
 "nbformat_minor": 2
}
